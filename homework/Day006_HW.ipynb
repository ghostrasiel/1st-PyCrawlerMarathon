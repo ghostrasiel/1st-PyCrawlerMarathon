{
 "cells": [
  {
   "cell_type": "code",
   "execution_count": 1,
   "metadata": {},
   "outputs": [
    {
     "name": "stdout",
     "output_type": "stream",
     "text": [
      "2019-05-14 17:00:12\n",
      "2019-04-01 10:17:08\n",
      "2017-05-02 14:48:23\n",
      "2017-05-02 10:45:13\n",
      "2019-10-29 11:07:06\n"
     ]
    }
   ],
   "source": [
    "import  requests\n",
    "r = requests.get('https://www.zhihu.com/api/v4/questions/55493026/answers' ,\n",
    "                 headers={\"User-Agent\":\"Mozilla/5.0 (Windows NT 10.0; Win64; x64) AppleWebKit/537.36 (KHTML, like Gecko) Chrome/78.0.3904.108 Safari/537.36\"})\n",
    "respon =r.text\n",
    "import json\n",
    "from datetime import datetime\n",
    "res = json.loads(respon)\n",
    "for re in res['data']:\n",
    "    tt=re['created_time']\n",
    "    date = datetime.fromtimestamp(tt) \n",
    "    print(date)"
   ]
  },
  {
   "cell_type": "code",
   "execution_count": 4,
   "metadata": {},
   "outputs": [
    {
     "name": "stdout",
     "output_type": "stream",
     "text": [
      "2019-05-14 17:00:12 \n",
      " 2019-11-26 16:14:14\n"
     ]
    }
   ],
   "source": [
    "[x1,x2]=[res['data'][0]['updated_time'],res['data'][4]['updated_time']]\n",
    "[y1,y2]=[datetime.fromtimestamp(x1),datetime.fromtimestamp(x2)]\n",
    "print(y1,\"\\n\",y2)"
   ]
  },
  {
   "cell_type": "code",
   "execution_count": null,
   "metadata": {},
   "outputs": [],
   "source": []
  }
 ],
 "metadata": {
  "kernelspec": {
   "display_name": "Python 3",
   "language": "python",
   "name": "python3"
  },
  "language_info": {
   "codemirror_mode": {
    "name": "ipython",
    "version": 3
   },
   "file_extension": ".py",
   "mimetype": "text/x-python",
   "name": "python",
   "nbconvert_exporter": "python",
   "pygments_lexer": "ipython3",
   "version": "3.7.3"
  }
 },
 "nbformat": 4,
 "nbformat_minor": 2
}
