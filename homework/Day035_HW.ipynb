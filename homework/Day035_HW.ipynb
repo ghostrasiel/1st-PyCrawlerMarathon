{
 "cells": [
  {
   "cell_type": "code",
   "execution_count": 2,
   "metadata": {},
   "outputs": [
    {
     "data": {
      "text/plain": [
       "39944"
      ]
     },
     "execution_count": 2,
     "metadata": {},
     "output_type": "execute_result"
    },
    {
     "name": "stdout",
     "output_type": "stream",
     "text": [
      "Thread-1  =>  2\n",
      "Thread-2  =>  1\n",
      "Thread-1  =>  0\n",
      "Thread-1  =>  4\n",
      "Thread-1  =>  2\n",
      "Thread-2  =>  1\n",
      "Thread-1  =>  4\n",
      "Thread-2  =>  3\n",
      "Thread-2  =>  3\n"
     ]
    }
   ],
   "source": [
    "import _thread\n",
    "import time\n",
    "\n",
    "def print_time( threadName, data, delay):\n",
    "    for d in data:\n",
    "        time.sleep(delay)\n",
    "        print(threadName, ' => ', d)\n",
    "\n",
    "_thread.start_new_thread( print_time, (\"Thread-1\", range(0, 5, 2), 2) )\n",
    "_thread.start_new_thread( print_time, (\"Thread-2\", range(1, 5, 2), 5) )"
   ]
  },
  {
   "cell_type": "code",
   "execution_count": 3,
   "metadata": {},
   "outputs": [
    {
     "name": "stdout",
     "output_type": "stream",
     "text": [
      "1579839804.2574313\n",
      "1579839804.2574313\n",
      "0.0\n"
     ]
    }
   ],
   "source": [
    "import requests\n",
    "urls = ['http://python.org', 'http://python.org', 'http://python.org',\n",
    "        'http://python.org', 'http://python.org']\n",
    "\n",
    "startTime = time.time()\n",
    "print(startTime)\n",
    "for url in urls:\n",
    "    _thread.start_new_thread(requests.get,(url,))\n",
    "\n",
    "finishTime = time.time()\n",
    "print(finishTime)\n",
    "print(finishTime - startTime)"
   ]
  },
  {
   "cell_type": "code",
   "execution_count": null,
   "metadata": {},
   "outputs": [],
   "source": []
  }
 ],
 "metadata": {
  "kernelspec": {
   "display_name": "Python 3",
   "language": "python",
   "name": "python3"
  },
  "language_info": {
   "codemirror_mode": {
    "name": "ipython",
    "version": 3
   },
   "file_extension": ".py",
   "mimetype": "text/x-python",
   "name": "python",
   "nbconvert_exporter": "python",
   "pygments_lexer": "ipython3",
   "version": "3.7.3"
  }
 },
 "nbformat": 4,
 "nbformat_minor": 2
}
