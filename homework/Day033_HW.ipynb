{
 "cells": [
  {
   "cell_type": "code",
   "execution_count": 1,
   "metadata": {},
   "outputs": [
    {
     "name": "stderr",
     "output_type": "stream",
     "text": [
      "C:\\Users\\ghost\\Anaconda3\\lib\\site-packages\\urllib3\\connectionpool.py:847: InsecureRequestWarning: Unverified HTTPS request is being made. Adding certificate verification is strongly advised. See: https://urllib3.readthedocs.io/en/latest/advanced-usage.html#ssl-warnings\n",
      "  InsecureRequestWarning)\n"
     ]
    },
    {
     "name": "stdout",
     "output_type": "stream",
     "text": [
      "<h2 class=\"Subhead-heading\">Create a new repository</h2>\n"
     ]
    }
   ],
   "source": [
    "import requests\n",
    "import bs4\n",
    "cookies = {\n",
    "'dotcom_user':'ghostrasiel',\n",
    "'logged_in':'yes',\n",
    "'user_session':'IZLYhzagiYbq_4XlZbv8XQUq0xfdQGM2PBzTFzpSIGBMs0jB'\n",
    "}\n",
    "r = requests.get('https://github.com/new', verify=False,cookies=cookies)\n",
    "reson =r.text\n",
    "soup = bs4.BeautifulSoup(reson , 'html.parser')\n",
    "h2 = soup.find('h2' , class_='Subhead-heading')\n",
    "print(h2)"
   ]
  },
  {
   "cell_type": "code",
   "execution_count": null,
   "metadata": {},
   "outputs": [],
   "source": []
  }
 ],
 "metadata": {
  "kernelspec": {
   "display_name": "Python 3",
   "language": "python",
   "name": "python3"
  },
  "language_info": {
   "codemirror_mode": {
    "name": "ipython",
    "version": 3
   },
   "file_extension": ".py",
   "mimetype": "text/x-python",
   "name": "python",
   "nbconvert_exporter": "python",
   "pygments_lexer": "ipython3",
   "version": "3.7.3"
  }
 },
 "nbformat": 4,
 "nbformat_minor": 2
}
