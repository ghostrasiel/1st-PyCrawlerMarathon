{
 "cells": [
  {
   "cell_type": "code",
   "execution_count": 6,
   "metadata": {},
   "outputs": [
    {
     "name": "stdout",
     "output_type": "stream",
     "text": [
      "簡答題:1.檔案:打包下載 2.api:可以指定特定要讀取的部分 3.網頁爬蟲:利用程式語法,爬下來\n"
     ]
    }
   ],
   "source": [
    "print(\"簡答題:1.檔案:打包下載 2.api:可以指定特定要讀取的部分 3.網頁爬蟲:利用程式語法,爬下來\")"
   ]
  },
  {
   "cell_type": "code",
   "execution_count": 15,
   "metadata": {},
   "outputs": [
    {
     "data": {
      "text/plain": [
       "('Homework.txt', <http.client.HTTPMessage at 0x1a895989cf8>)"
      ]
     },
     "execution_count": 15,
     "metadata": {},
     "output_type": "execute_result"
    }
   ],
   "source": [
    "from urllib.request import urlretrieve\n",
    "urlretrieve(\"https://www.w3.org/TR/PNG/iso_8859-1.txt\", \"Homework.txt\" )"
   ]
  },
  {
   "cell_type": "code",
   "execution_count": 24,
   "metadata": {},
   "outputs": [
    {
     "name": "stdout",
     "output_type": "stream",
     "text": [
      "Homework.txt\n"
     ]
    }
   ],
   "source": [
    "import os ,sys\n",
    "dirs = os.listdir('./')\n",
    "for file in dirs:\n",
    "    if \"Homework.txt\" in file:\n",
    "        print(file)"
   ]
  },
  {
   "cell_type": "code",
   "execution_count": 26,
   "metadata": {},
   "outputs": [],
   "source": [
    "with open(\"Homework.txt\" , \"w\") as cover:\n",
    "    cover.write(\"Hello World\")"
   ]
  },
  {
   "cell_type": "code",
   "execution_count": 27,
   "metadata": {},
   "outputs": [
    {
     "name": "stdout",
     "output_type": "stream",
     "text": [
      "YES 符合字數\n"
     ]
    }
   ],
   "source": [
    "with open(\"Homework.txt\" , \"r\" , encoding=\"utf-8\") as RD:\n",
    "   date=RD.read()\n",
    "#print(len(date))\n",
    "if len(date) == len(\"Hello World\") :\n",
    "    print(\"YES 符合字數\")\n",
    "else:\n",
    "    print(\"NO 不符合\")"
   ]
  },
  {
   "cell_type": "code",
   "execution_count": null,
   "metadata": {},
   "outputs": [],
   "source": []
  }
 ],
 "metadata": {
  "kernelspec": {
   "display_name": "Python 3",
   "language": "python",
   "name": "python3"
  },
  "language_info": {
   "codemirror_mode": {
    "name": "ipython",
    "version": 3
   },
   "file_extension": ".py",
   "mimetype": "text/x-python",
   "name": "python",
   "nbconvert_exporter": "python",
   "pygments_lexer": "ipython3",
   "version": "3.7.3"
  }
 },
 "nbformat": 4,
 "nbformat_minor": 2
}
