{
 "cells": [
  {
   "cell_type": "code",
   "execution_count": 8,
   "metadata": {},
   "outputs": [
    {
     "name": "stdout",
     "output_type": "stream",
     "text": [
      "這個資料會回傳30筆資料 ，包含 \n",
      " dict_keys(['id', 'title', 'excerpt', 'anonymousSchool', 'anonymousDepartment', 'pinned', 'forumId', 'replyId', 'createdAt', 'updatedAt', 'commentCount', 'likeCount', 'withNickname', 'tags', 'topics', 'meta', 'forumName', 'forumAlias', 'gender', 'school', 'department', 'replyTitle', 'mediaMeta', 'reactions', 'hidden', 'customStyle', 'isSuspiciousAccount', 'layout', 'withImages', 'withVideos', 'media', 'reportReasonText', 'postAvatar'])\n"
     ]
    }
   ],
   "source": [
    "import  requests\n",
    "r = requests.get('https://www.dcard.tw/_api/forums/pet/posts?popular=true')\n",
    "import json\n",
    "response = r.text\n",
    "#print(response)\n",
    "res = json.loads(response)\n",
    "CN = 0\n",
    "for re in res :\n",
    "    CN+=1\n",
    "print(\"這個資料會回傳%s筆資料\" %CN , '，包含',\"\\n\",res[1].keys())"
   ]
  },
  {
   "cell_type": "code",
   "execution_count": 9,
   "metadata": {},
   "outputs": [
    {
     "name": "stdout",
     "output_type": "stream",
     "text": [
      "我發誓牠們的食物是一樣的…… 時間: 2019-12-02T15:47:50.672Z 留言人數: 23 按愛心: 1698\n",
      "覺得認同 時間: 2019-12-02T16:16:39.331Z 留言人數: 22 按愛心: 915\n",
      "#CP值爆棚🔥包準可以安心侍奉主子們的安心居家清潔劑～隆重登場！ 時間: 2019-12-03T07:01:36.591Z 留言人數: 6 按愛心: 302\n",
      "比特BB的心酸 時間: 2019-12-03T03:00:15.230Z 留言人數: 34 按愛心: 196\n",
      "養了一隻便便製造機 時間: 2019-12-02T19:36:06.064Z 留言人數: 26 按愛心: 114\n",
      "同學你的貓 時間: 2019-12-02T17:33:55.812Z 留言人數: 5 按愛心: 105\n",
      "中台小貓咪 時間: 2019-12-02T15:28:25.729Z 留言人數: 1 按愛心: 65\n",
      "掌上明鼠🐹 時間: 2019-12-03T10:33:32.723Z 留言人數: 6 按愛心: 32\n",
      "寵物溝通師 時間: 2019-12-03T06:15:01.532Z 留言人數: 5 按愛心: 29\n",
      "有養蛇的朋友嗎 時間: 2019-12-03T10:26:07.132Z 留言人數: 12 按愛心: 19\n",
      "表情很浮誇喔 時間: 2019-12-02T15:36:01.429Z 留言人數: 0 按愛心: 19\n",
      "同學你的倉鼠😍😍 時間: 2019-12-03T05:57:24.855Z 留言人數: 1 按愛心: 18\n",
      "板橋狗狗走失協尋🙏🏻 時間: 2019-12-03T08:12:02.860Z 留言人數: 1 按愛心: 17\n",
      "我怎麼就沒資格了 時間: 2019-12-03T00:58:21.934Z 留言人數: 7 按愛心: 17\n",
      "鼠鼠跑步機 時間: 2019-12-03T05:19:42.813Z 留言人數: 5 按愛心: 16\n",
      "有人家的貓貓也會有這種反應嗎 時間: 2019-12-03T21:02:41.770Z 留言人數: 4 按愛心: 15\n",
      "臘臘日腸 狗生很忙 時間: 2019-12-03T09:35:22.592Z 留言人數: 2 按愛心: 15\n",
      "命案現場 時間: 2019-12-03T14:15:30.889Z 留言人數: 3 按愛心: 14\n",
      "最近想養布偶貓 時間: 2019-12-03T05:00:37.016Z 留言人數: 18 按愛心: 13\n",
      "冬天到了。躺在床上滑手機 。 時間: 2019-12-03T23:53:16.051Z 留言人數: 1 按愛心: 11\n",
      "寵物協尋~拜託桃園的朋友可以多多留意 時間: 2019-12-03T10:23:17.008Z 留言人數: 1 按愛心: 11\n",
      "阿泥成長史1M->4M 時間: 2019-12-03T09:05:53.332Z 留言人數: 1 按愛心: 11\n",
      "來求個食物ㄉ 時間: 2019-12-03T17:02:13.202Z 留言人數: 1 按愛心: 9\n",
      "小呆鼠🐹🐹🐹 時間: 2019-12-03T04:23:39.130Z 留言人數: 2 按愛心: 9\n",
      "蜥門慶硬硬硬硬硬 時間: 2019-12-03T15:42:20.058Z 留言人數: 3 按愛心: 8\n",
      "#圖 沒想到你有這種癖好⋯⋯ 時間: 2019-12-03T14:45:02.471Z 留言人數: 2 按愛心: 8\n",
      "#圖 我家那隻又愛又恨的臭兔兔＆用品分享 時間: 2019-12-03T14:27:21.303Z 留言人數: 7 按愛心: 8\n",
      "貓長腫瘤 #問 時間: 2019-12-03T13:57:46.871Z 留言人數: 6 按愛心: 8\n",
      "鸚鵡飛走 時間: 2019-12-03T05:01:42.285Z 留言人數: 1 按愛心: 8\n",
      "請問有養鸚鵡的前輩們 時間: 2019-12-03T13:05:58.245Z 留言人數: 4 按愛心: 6\n"
     ]
    }
   ],
   "source": [
    "for re in res:\n",
    "    print(re['title'],\"時間:\",re['createdAt'],'留言人數:',re['commentCount'],'按愛心:',re['likeCount'])"
   ]
  },
  {
   "cell_type": "code",
   "execution_count": 11,
   "metadata": {},
   "outputs": [
    {
     "name": "stdout",
     "output_type": "stream",
     "text": [
      "熱門文章:\n",
      "平均留言 7.0\n",
      "平均愛心 123.86666666666666 \n",
      "\n",
      "非熱門文章:\n",
      "平均留言 2.3\n",
      "平均愛心 2.3\n"
     ]
    }
   ],
   "source": [
    "[y1,y2 , y3 ,y4]=[0,0,0,0]\n",
    "for re in res:\n",
    "    x1 =re['commentCount']\n",
    "    y1 = y1+x1\n",
    "    x2 =re['likeCount']\n",
    "    y2 =y2+x2\n",
    "\n",
    "v =requests.get('https://www.dcard.tw/_api/forums/pet/posts?popular=false')\n",
    "rev = json.loads(v.text)\n",
    "for rv in rev :\n",
    "    x3 =rv['commentCount']\n",
    "    y3 = y3+x3\n",
    "    x4 =rv['likeCount']\n",
    "    y4 =y3+x3\n",
    "    [AY1, AY2,AY3,AY4] = [y1 / len(res), y2 / len(res),y3/len(rev),y4/len(rev)]\n",
    "print(\"熱門文章:\")\n",
    "print(\"平均留言\",AY1)\n",
    "print(\"平均愛心\",AY2,'\\n')\n",
    "print(\"非熱門文章:\")\n",
    "print(\"平均留言\",AY3)\n",
    "print(\"平均愛心\",AY4)"
   ]
  },
  {
   "cell_type": "code",
   "execution_count": null,
   "metadata": {},
   "outputs": [],
   "source": []
  }
 ],
 "metadata": {
  "kernelspec": {
   "display_name": "Python 3",
   "language": "python",
   "name": "python3"
  },
  "language_info": {
   "codemirror_mode": {
    "name": "ipython",
    "version": 3
   },
   "file_extension": ".py",
   "mimetype": "text/x-python",
   "name": "python",
   "nbconvert_exporter": "python",
   "pygments_lexer": "ipython3",
   "version": "3.7.3"
  }
 },
 "nbformat": 4,
 "nbformat_minor": 2
}
