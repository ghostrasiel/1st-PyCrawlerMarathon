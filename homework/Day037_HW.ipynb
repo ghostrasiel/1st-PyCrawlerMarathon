{
 "cells": [
  {
   "cell_type": "code",
   "execution_count": 1,
   "metadata": {},
   "outputs": [
    {
     "name": "stdout",
     "output_type": "stream",
     "text": [
      "2020-01-12:41:02\n",
      "努力努力\n",
      "2020-01-12:41:07\n",
      "努力努力\n",
      "2020-01-12:41:12\n",
      "努力努力\n",
      "2020-01-12:41:17\n",
      "努力努力\n",
      "2020-01-12:41:22\n",
      "努力努力\n"
     ]
    }
   ],
   "source": [
    "import time\n",
    "def timer(n):\n",
    "    print(time.strftime('%Y-%m-%X',time.localtime()))\n",
    "    print('努力努力')\n",
    "    return\n",
    "\n",
    "count =0\n",
    "while True:\n",
    "    timer(1)\n",
    "    time.sleep(5)\n",
    "    count= count+1\n",
    "    if count >=5:\n",
    "        break"
   ]
  },
  {
   "cell_type": "code",
   "execution_count": 2,
   "metadata": {
    "scrolled": true
   },
   "outputs": [
    {
     "name": "stdout",
     "output_type": "stream",
     "text": [
      "2020-01-12:54:12\n",
      "過了1秒\n",
      "2020-01-12:54:13\n",
      "過了2秒\n",
      "2020-01-12:54:15\n",
      "過了3秒\n",
      "2020-01-12:54:18\n",
      "過了4秒\n"
     ]
    }
   ],
   "source": [
    "from threading import Timer\n",
    "def hhh(c):\n",
    "    c = c+1\n",
    "    if c >=5 :\n",
    "        return\n",
    "    print(time.strftime('%Y-%m-%X',time.localtime()))\n",
    "    t = Timer(c , hhh,(c,))\n",
    "    print('過了{w}秒'.format(w=c))\n",
    "    t.start()\n",
    "c=0\n",
    "hhh(c)"
   ]
  },
  {
   "cell_type": "code",
   "execution_count": 4,
   "metadata": {},
   "outputs": [
    {
     "name": "stdout",
     "output_type": "stream",
     "text": [
      "2020-01-24 12:57:31\n",
      "2020-01-24 12:57:33\n",
      "2020-01-24 12:57:35\n",
      "2020-01-24 12:57:37\n",
      "2020-01-24 12:57:39\n",
      "2020-01-24 12:57:41\n",
      "2020-01-24 12:57:43\n",
      "2020-01-24 12:57:45\n",
      "2020-01-24 12:57:47\n",
      "2020-01-24 12:57:49\n"
     ]
    },
    {
     "ename": "KeyboardInterrupt",
     "evalue": "",
     "output_type": "error",
     "traceback": [
      "\u001b[1;31m---------------------------------------------------------------------------\u001b[0m",
      "\u001b[1;31mKeyboardInterrupt\u001b[0m                         Traceback (most recent call last)",
      "\u001b[1;32m<ipython-input-4-a459cfd5bb10>\u001b[0m in \u001b[0;36m<module>\u001b[1;34m\u001b[0m\n\u001b[0;32m      7\u001b[0m \u001b[1;33m\u001b[0m\u001b[0m\n\u001b[0;32m      8\u001b[0m \u001b[1;32mwhile\u001b[0m \u001b[1;32mTrue\u001b[0m\u001b[1;33m:\u001b[0m\u001b[1;33m\u001b[0m\u001b[1;33m\u001b[0m\u001b[0m\n\u001b[1;32m----> 9\u001b[1;33m     \u001b[0mschedule\u001b[0m\u001b[1;33m.\u001b[0m\u001b[0mrun_pending\u001b[0m\u001b[1;33m(\u001b[0m\u001b[1;33m)\u001b[0m\u001b[1;33m\u001b[0m\u001b[1;33m\u001b[0m\u001b[0m\n\u001b[0m",
      "\u001b[1;31mKeyboardInterrupt\u001b[0m: "
     ]
    }
   ],
   "source": [
    "import schedule\n",
    "\n",
    "def job():\n",
    "    print(time.strftime('%Y-%m-%d %X', time.localtime()))\n",
    "\n",
    "schedule.every(2).seconds.do(job)\n",
    "\n",
    "while True:\n",
    "    schedule.run_pending()"
   ]
  },
  {
   "cell_type": "code",
   "execution_count": null,
   "metadata": {},
   "outputs": [],
   "source": []
  }
 ],
 "metadata": {
  "kernelspec": {
   "display_name": "Python 3",
   "language": "python",
   "name": "python3"
  },
  "language_info": {
   "codemirror_mode": {
    "name": "ipython",
    "version": 3
   },
   "file_extension": ".py",
   "mimetype": "text/x-python",
   "name": "python",
   "nbconvert_exporter": "python",
   "pygments_lexer": "ipython3",
   "version": "3.7.3"
  }
 },
 "nbformat": 4,
 "nbformat_minor": 2
}
