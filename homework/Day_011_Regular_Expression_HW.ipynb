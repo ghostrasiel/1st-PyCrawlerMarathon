{
 "cells": [
  {
   "cell_type": "code",
   "execution_count": 1,
   "metadata": {},
   "outputs": [],
   "source": [
    "import re\n",
    "def regexmatch(regex ,input_text):\n",
    "    pat = re.compile(regex)\n",
    "    result = re.search(pat , input_text)\n",
    "\n",
    "    if result:\n",
    "        print('Matched: %s' % (result.group())) #返回一个包含所有小组字符串的元组，从 1 到 所含的小组号。\n",
    "        if result.lastindex is not None :\n",
    "            for i in range(0,result.lastindex+1):\n",
    "                print('group(%d):%s' %(i , result.group(i)))\n",
    "    else :\n",
    "        print('not match')"
   ]
  },
  {
   "cell_type": "code",
   "execution_count": 2,
   "metadata": {},
   "outputs": [
    {
     "name": "stdout",
     "output_type": "stream",
     "text": [
      "Matched: 216.58.200.2\n",
      "group(0):216.58.200.2\n",
      "group(1):216\n",
      "group(2):58\n",
      "group(3):200\n",
      "group(4):2\n",
      "not match\n"
     ]
    }
   ],
   "source": [
    "IPA1='216.58.200.227'\n",
    "regex='([0-9]|[0-9][0-9]|1[0-9][0-9]|2[0-4][0-9]|25[0-5])\\.([0-9]|[0-9][0-9]|1[0-9][0-9]|2[0-4][0-9]|25[0-5])\\.([0-9]|[0-9][0-9]|1[0-9][0-9]|2[0-4][0-9]|25[0-5])\\.([0-9]|[0-9][0-9]|1[0-9][0-9]|2[0-4][0-9]|25[0-5])'\n",
    "regexmatch(regex , IPA1)\n",
    "IPA2='999.888.777.666'\n",
    "regexmatch(regex , IPA2)"
   ]
  },
  {
   "cell_type": "code",
   "execution_count": 3,
   "metadata": {},
   "outputs": [
    {
     "name": "stdout",
     "output_type": "stream",
     "text": [
      "Matched: <a href=https://movies.yahoo.com.tw/movietime_result.html/id=9467>時刻表</a>\n"
     ]
    }
   ],
   "source": [
    "html_a_tag = \"<a href=https://movies.yahoo.com.tw/movietime_result.html/id=9467>時刻表</a>\"\n",
    "regex='<a href=https://movies.yahoo.com.tw/.+'\n",
    "regexmatch(regex , html_a_tag)"
   ]
  },
  {
   "cell_type": "code",
   "execution_count": null,
   "metadata": {},
   "outputs": [],
   "source": []
  }
 ],
 "metadata": {
  "kernelspec": {
   "display_name": "Python 3",
   "language": "python",
   "name": "python3"
  },
  "language_info": {
   "codemirror_mode": {
    "name": "ipython",
    "version": 3
   },
   "file_extension": ".py",
   "mimetype": "text/x-python",
   "name": "python",
   "nbconvert_exporter": "python",
   "pygments_lexer": "ipython3",
   "version": "3.7.3"
  }
 },
 "nbformat": 4,
 "nbformat_minor": 2
}
