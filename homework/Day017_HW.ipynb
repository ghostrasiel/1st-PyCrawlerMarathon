{
 "cells": [
  {
   "cell_type": "code",
   "execution_count": 2,
   "metadata": {},
   "outputs": [
    {
     "name": "stdout",
     "output_type": "stream",
     "text": [
      "1.動態網頁會隨js更新載入更多東西,靜態網頁則是取得當下抓取的資料不更新\n",
      "2.抓取不到完整資料\n"
     ]
    }
   ],
   "source": [
    "print('1.動態網頁會隨js更新載入更多東西,靜態網頁則是取得當下抓取的資料不更新\\n2.抓取不到完整資料')"
   ]
  },
  {
   "cell_type": "code",
   "execution_count": 3,
   "metadata": {},
   "outputs": [
    {
     "name": "stdout",
     "output_type": "stream",
     "text": [
      "1.沒抓取js\n",
      "2.利用使用者檢查工具 \n"
     ]
    }
   ],
   "source": [
    "print('1.沒抓取js\\n2.利用使用者檢查工具 ')"
   ]
  },
  {
   "cell_type": "code",
   "execution_count": null,
   "metadata": {},
   "outputs": [],
   "source": []
  }
 ],
 "metadata": {
  "kernelspec": {
   "display_name": "Python 3",
   "language": "python",
   "name": "python3"
  },
  "language_info": {
   "codemirror_mode": {
    "name": "ipython",
    "version": 3
   },
   "file_extension": ".py",
   "mimetype": "text/x-python",
   "name": "python",
   "nbconvert_exporter": "python",
   "pygments_lexer": "ipython3",
   "version": "3.7.3"
  }
 },
 "nbformat": 4,
 "nbformat_minor": 2
}
