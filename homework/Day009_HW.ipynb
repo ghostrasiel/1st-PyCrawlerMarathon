{
 "cells": [
  {
   "cell_type": "code",
   "execution_count": 5,
   "metadata": {},
   "outputs": [
    {
     "name": "stdout",
     "output_type": "stream",
     "text": [
      "[<title>[廣告] 甜美系偶像級美少女 明里つむぎ - 看板 Beauty - 批踢踢實業坊</title>]\n"
     ]
    }
   ],
   "source": [
    "import  requests\n",
    "import bs4\n",
    "url=\"https://www.ptt.cc/bbs/Beauty/M.1575595561.A.1EC.html\"\n",
    "r = requests.get(url ,cookies={'over18':'1'},headers={'User-Agent':\"Mozilla/5.0 (Windows NT 10.0; Win64; x64) AppleWebKit/537.36 (KHTML, like Gecko) Chrome/76.0.3809.132 Safari/537.36\"})\n",
    "#cookies 是進入特殊條件的規則\n",
    "resopen = r.text\n",
    "soup = bs4.BeautifulSoup(resopen , 'html.parser')\n",
    "date = soup.find_all('title')\n",
    "print(date)"
   ]
  },
  {
   "cell_type": "code",
   "execution_count": 6,
   "metadata": {},
   "outputs": [],
   "source": [
    "from PIL import Image\n",
    "import os #創建資料夾\n",
    "out_d = 'picturedod'\n",
    "\n",
    "if os.path.exists(out_d) == False : #如果資料夾存在傳回ture 否則傳回false\n",
    "    os.makedirs(out_d)"
   ]
  },
  {
   "cell_type": "code",
   "execution_count": 7,
   "metadata": {},
   "outputs": [
    {
     "name": "stdout",
     "output_type": "stream",
     "text": [
      "save imagepicturedod/98jEGC2.jpg.jpeg\n",
      "save imagepicturedod/w0RWwYK.jpg.jpeg\n",
      "save imagepicturedod/yqkN53D.jpg.jpeg\n",
      "save imagepicturedod/G9SBo3t.jpg.jpeg\n",
      "save imagepicturedod/ki85zan.jpg.jpeg\n",
      "save imagepicturedod/ID2Ljc8.jpg.jpeg\n",
      "save imagepicturedod/erELAy4.jpg.jpeg\n",
      "save imagepicturedod/xRb5Yi7.jpg.jpeg\n",
      "save imagepicturedod/Ecgx4p7.jpg.jpeg\n",
      "save imagepicturedod/M3rC1VL.jpg.jpeg\n",
      "save imagepicturedod/cUedXK3.jpg.jpeg\n",
      "save imagepicturedod/YpbvZGF.jpg.jpeg\n",
      "save imagepicturedod/QCvHnEg.jpg.jpeg\n",
      "save imagepicturedod/rPqelEc.jpg.jpeg\n",
      "save imagepicturedod/c8qAvnV.jpg.jpeg\n",
      "save imagepicturedod/5JSGkh2.jpg.jpeg\n",
      "save imagepicturedod/YgD2vUi.jpg.jpeg\n",
      "save imagepicturedod/YNPThYq.jpg.jpeg\n",
      "save imagepicturedod/Rx3ynYG.jpg.jpeg\n",
      "save imagepicturedod/BJpXbI8.jpg.jpeg\n"
     ]
    }
   ],
   "source": [
    "img_tags =soup.find(id=\"main-content\").findChildren('a' , recursive=False)\n",
    "for img_tag in img_tags :\n",
    "    if 'imgur' not in img_tag['href']:\n",
    "        continue\n",
    "    img_id=img_tag['href'].split('/')[-1]\n",
    "    # print(img_id)\n",
    "    img_url='https://imgur.com/{}.jpg'.format(img_id)\n",
    "    # print(img_url)\n",
    "    with requests.get(img_url , stream=True) as s :\n",
    "        s.raise_for_status()\n",
    "        img=Image.open(s.raw)\n",
    "        savename='{outdir}/{imgid}.{imgext}'.format(outdir=out_d , imgid=img_id , imgext=img.format.lower())\n",
    "        # print(savename)\n",
    "        img.save(savename)\n",
    "        print('save image{}'.format(savename))"
   ]
  },
  {
   "cell_type": "code",
   "execution_count": null,
   "metadata": {},
   "outputs": [],
   "source": []
  }
 ],
 "metadata": {
  "kernelspec": {
   "display_name": "Python 3",
   "language": "python",
   "name": "python3"
  },
  "language_info": {
   "codemirror_mode": {
    "name": "ipython",
    "version": 3
   },
   "file_extension": ".py",
   "mimetype": "text/x-python",
   "name": "python",
   "nbconvert_exporter": "python",
   "pygments_lexer": "ipython3",
   "version": "3.7.3"
  }
 },
 "nbformat": 4,
 "nbformat_minor": 2
}
