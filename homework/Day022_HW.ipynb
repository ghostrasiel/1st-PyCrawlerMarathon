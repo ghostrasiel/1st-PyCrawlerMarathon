{
 "cells": [
  {
   "cell_type": "code",
   "execution_count": 1,
   "metadata": {},
   "outputs": [],
   "source": [
    "from selenium  import webdriver as sw\n",
    "import bs4\n",
    "import time\n",
    "import pandas"
   ]
  },
  {
   "cell_type": "code",
   "execution_count": 3,
   "metadata": {},
   "outputs": [
    {
     "name": "stdout",
     "output_type": "stream",
     "text": [
      "2018/01    1.80\n",
      "2018/02    1.90\n",
      "2018/03    2.20\n",
      "2018/04    2.30\n",
      "2018/05    3.10\n",
      "2018/06    2.70\n",
      "2018/07    2.20\n",
      "2018/08    2.40\n",
      "Name: SO2, dtype: object\n"
     ]
    }
   ],
   "source": [
    "url = 'https://taqm.epa.gov.tw/taqm/tw/MonthlyAverage.aspx'\n",
    "driver =sw.Chrome('C:/Users/ghost/Desktop/chromedriver.exe')\n",
    "driver.get(url)\n",
    "push = driver.find_element_by_xpath('//*[@id=\"ctl05_ddlSite\"]')\n",
    "push.click()\n",
    "sush = driver.find_element_by_xpath('//*[@id=\"ctl05_ddlSite\"]/option[1]')\n",
    "sush.click()\n",
    "date = driver.find_element_by_xpath('//*[@id=\"ctl05_ddlYear\"]')\n",
    "date.click()\n",
    "date18 = driver.find_element_by_xpath('//*[@id=\"ctl05_ddlYear\"]/option[2]')\n",
    "date18.click()\n",
    "pop = driver.find_element_by_xpath('//*[@id=\"ctl05_btnQuery\"]')\n",
    "pop.click()\n",
    "time.sleep(3)\n",
    "html = driver.page_source\n",
    "driver.quit()\n",
    "soup  = bs4.BeautifulSoup(html , 'html.parser')\n",
    "table =soup.find('div' , class_='ResultPanel').find('tbody')\n",
    "# print(table)\n",
    "tabs =table.find_all('tr' , attrs={'style':'color:Black;'})\n",
    "d ={}\n",
    "date=[]\n",
    "key =[]\n",
    "for tab in tabs :\n",
    "    tas =tab.find_all('td')\n",
    "    for ta in tas:\n",
    "        if 'style' in ta.attrs:\n",
    "            key = ta.text\n",
    "            d[key]={}\n",
    "        elif 'class' not in ta.attrs:\n",
    "            if ta.text.strip() != '':\n",
    "                if \"/\" in ta.text:\n",
    "                    date = ta.text\n",
    "                else:\n",
    "                    d[key][date]=ta.text\n",
    "# print(d)\n",
    "p =pandas.DataFrame(d)\n",
    "print(p['SO2'][:8])"
   ]
  },
  {
   "cell_type": "code",
   "execution_count": 5,
   "metadata": {},
   "outputs": [
    {
     "name": "stdout",
     "output_type": "stream",
     "text": [
      "          SO2    CO\n",
      "2018/01  1.80  0.34\n",
      "2018/02  1.90  0.44\n",
      "2018/03  2.20  0.40\n",
      "2018/04  2.30  0.38\n",
      "2018/05  3.10  0.34\n",
      "2018/06  2.70  0.29\n",
      "2018/07  2.20  0.21\n",
      "2018/08  2.40  0.30\n"
     ]
    }
   ],
   "source": [
    "url = 'https://taqm.epa.gov.tw/taqm/tw/MonthlyAverage.aspx'\n",
    "driver =sw.Chrome('C:/Users/ghost/Desktop/chromedriver.exe')\n",
    "driver.get(url)\n",
    "push = driver.find_element_by_xpath('//*[@id=\"ctl05_ddlSite\"]')\n",
    "push.click()\n",
    "sush = driver.find_element_by_xpath('//*[@id=\"ctl05_ddlSite\"]/option[1]')\n",
    "sush.click()\n",
    "date = driver.find_element_by_xpath('//*[@id=\"ctl05_ddlYear\"]')\n",
    "date.click()\n",
    "date18 = driver.find_element_by_xpath('//*[@id=\"ctl05_ddlYear\"]/option[2]')\n",
    "date18.click()\n",
    "pop = driver.find_element_by_xpath('//*[@id=\"ctl05_btnQuery\"]')\n",
    "pop.click()\n",
    "time.sleep(3)\n",
    "html = driver.page_source\n",
    "driver.quit()\n",
    "soup  = bs4.BeautifulSoup(html , 'html.parser')\n",
    "table =soup.find('div' , class_='ResultPanel').find('tbody')\n",
    "# print(table)\n",
    "tabs =table.find_all('tr' , attrs={'style':'color:Black;'})\n",
    "d ={}\n",
    "date=[]\n",
    "key =[]\n",
    "for tab in tabs :\n",
    "    tas =tab.find_all('td')\n",
    "    for ta in tas:\n",
    "        if 'style' in ta.attrs:\n",
    "            key = ta.text\n",
    "            d[key]={}\n",
    "        elif 'class' not in ta.attrs:\n",
    "            if ta.text.strip() != '':\n",
    "                if \"/\" in ta.text:\n",
    "                    date = ta.text\n",
    "                else:\n",
    "                    d[key][date]=ta.text\n",
    "# print(d)\n",
    "p =pandas.DataFrame(d)\n",
    "print(p[['SO2','CO']][:8])"
   ]
  },
  {
   "cell_type": "code",
   "execution_count": null,
   "metadata": {},
   "outputs": [],
   "source": []
  }
 ],
 "metadata": {
  "kernelspec": {
   "display_name": "Python 3",
   "language": "python",
   "name": "python3"
  },
  "language_info": {
   "codemirror_mode": {
    "name": "ipython",
    "version": 3
   },
   "file_extension": ".py",
   "mimetype": "text/x-python",
   "name": "python",
   "nbconvert_exporter": "python",
   "pygments_lexer": "ipython3",
   "version": "3.7.3"
  }
 },
 "nbformat": 4,
 "nbformat_minor": 2
}
