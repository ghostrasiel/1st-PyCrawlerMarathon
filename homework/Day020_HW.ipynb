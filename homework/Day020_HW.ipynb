{
 "cells": [
  {
   "cell_type": "code",
   "execution_count": 1,
   "metadata": {},
   "outputs": [],
   "source": [
    "import requests\n",
    "url = 'https://taqm.epa.gov.tw/taqm/tw/MonthlyAverage.aspx'\n",
    "payload = {\n",
    "'ctl05$ddlSite':58,\n",
    "'ctl05$ddlYear':2019,\n",
    "'ctl05$btnQuery':'查詢',\n",
    "'ScriptManager1': 'ctl05$UpdatePanel1|ctl05$btnQuery',\n",
    "'__VIEWSTATE': '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'\n",
    ",'__VIEWSTATEGENERATOR': '0C858E1A',\n",
    "'__EVENTVALIDATION': '317HGbYnWAwZfItVo2SI7WnvUETd8EuGS5LnO1c+3Md8JP0olA0D5GPcVV9jeWmRyI0y6sUIBYLuJo3WPDUGyqYahuaHqUGbHRuImqANAWEZIVRYBbsbynRdwOvQq9Z/Llb1cf3tyIi5PIBZ0KHCFa6M08j7j99IWoe6owabaGmg+/K16VAx89Q/OxYx0Fll4pgvqht35I1miiuFciRt806FJbdyHdM0BJ6Fs4GOfpXJUPmedWbFwqP2TN9pO5Wu6H1VpFm6UXMLrwChAIV+xdBKv56AYq7IwGL9wuYED1Nj4pxrhDtzF1m/Es1kw7RpWisakKnoVXbUaby1jAowuIWLRt60N8Jg2eOf0kIkjFqW62qXHDNk/vI45sGD3TrAxAQSEi7h32evuENHLNe+YFBg4KPDwxs4O8Ua0r6v8N4dViCoXALzQLeq5wDNH33sY+F2XylGQDLT4cgn2NWzaz6pEjixEmjervpdM/rMIjnEXYDTsbnoowIhuAbhqHglztVZTKaTM0aVkMYaq5Gnxbg45HSzp8KXDpwAcBTwuJg7Jj2Wm9AO3XvTjjnZgBAHCBJtomQao2wAEKLZqg9xlwygr5ysA9VusYqo8xhOW+W16ylWQj9jISmSX+p9w6GMloQ6xJCkUd29Hl2cI7m/95BKDxFquxi2+mZLiUCZXtatkCCrM/VE23NO7TCZC5gAJuEMEUqEUurgwfk7h9L2v7xdmxr2I3JzBUmir3aXK9UybgRlUXGzGjnxL80C4ZUG8SeWRtT04Rv96UeHgkCtSJ/TBPSYNCbUhJLEfligkc8sVB8jCte9UC63amFvjqafKgZT6P3MWg2vHmQ/3vIXY7hkMCplyHEEwwf4ScwDDEvrqwwT00gsNDHsOpFve4YaGVSixc+u0qwe1X51SOrs1X6kL/mfWBA+IfeBmJv0So/AwZP0b3/xjkWeahVJXzWa559kCA=='\n",
    "}\n",
    "r = requests.post(url,data=payload)\n",
    "reson = r.text"
   ]
  },
  {
   "cell_type": "code",
   "execution_count": 2,
   "metadata": {},
   "outputs": [
    {
     "name": "stdout",
     "output_type": "stream",
     "text": [
      "{'SO2': {'2019/01': '4.10', '2019/02': '3.30', '2019/03': '3.90', '2019/04': '3.40', '2019/05': '3.30', '2019/06': '4.10', '2019/07': '4', '2019/08': '4.60', '2019/09': '3.50', '2019/10': '3.20', '2019/11': '3.60'}, 'CO': {'2019/01': '0.67', '2019/02': '0.48', '2019/03': '0.50', '2019/04': '0.39', '2019/05': '0.38', '2019/06': '0.24', '2019/07': '0.28', '2019/08': '0.33', '2019/09': '0.32', '2019/10': '0.36', '2019/11': '0.46'}, 'O3': {'2019/01': '24.70', '2019/02': '29.40', '2019/03': '29.20', '2019/04': '30.40', '2019/05': '28.60', '2019/06': '16.30', '2019/07': '15.50', '2019/08': '19.70', '2019/09': '35.70', '2019/10': '44', '2019/11': '34.80'}, 'PM10': {'2019/01': '78', '2019/02': '57', '2019/03': '52', '2019/04': '42', '2019/05': '35', '2019/06': '20', '2019/07': '24', '2019/08': '27', '2019/09': '35', '2019/10': '50', '2019/11': '63'}, 'NOx': {'2019/01': '38.01', '2019/02': '25.62', '2019/03': '27.84', '2019/04': '21.83', '2019/05': '22.55', '2019/06': '17.15', '2019/07': '17.71', '2019/08': '19.66', '2019/09': '18.66', '2019/10': '19.50', '2019/11': '28.99'}, 'NO': {'2019/01': '7.95', '2019/02': '4.76', '2019/03': '5.41', '2019/04': '4.16', '2019/05': '4.58', '2019/06': '5.08', '2019/07': '5.16', '2019/08': '5.17', '2019/09': '3.63', '2019/10': '3.50', '2019/11': '5.21'}, 'NO2': {'2019/01': '30.06', '2019/02': '20.86', '2019/03': '22.43', '2019/04': '17.68', '2019/05': '17.98', '2019/06': '12.08', '2019/07': '12.54', '2019/08': '14.49', '2019/09': '15.03', '2019/10': '15.99', '2019/11': '23.78'}, 'THC': {'2019/01': '2.27', '2019/02': '2.11', '2019/03': '2.12', '2019/04': '2.02', '2019/05': '2.02', '2019/06': '1.92', '2019/07': '1.93', '2019/08': '1.97', '2019/09': '1.98', '2019/10': '2.05', '2019/11': '2.15'}, 'NMHC': {'2019/01': '0.27', '2019/02': '0.17', '2019/03': '0.18', '2019/04': '0.14', '2019/05': '0.16', '2019/06': '0.13', '2019/07': '0.14', '2019/08': '0.15', '2019/09': '0.13', '2019/10': '0.13', '2019/11': '0.21'}, 'CH4': {'2019/01': '2', '2019/02': '1.94', '2019/03': '1.94', '2019/04': '1.88', '2019/05': '1.86', '2019/06': '1.79', '2019/07': '1.80', '2019/08': '1.82', '2019/09': '1.86', '2019/10': '1.92', '2019/11': '1.94'}}\n"
     ]
    }
   ],
   "source": [
    "import bs4\n",
    "soup = bs4.BeautifulSoup(reson , 'html.parser')\n",
    "table = soup.find('table',class_='TABLE_G')\n",
    "d ={}\n",
    "key = ''\n",
    "date = ''\n",
    "imems =table.find_all('td')\n",
    "for imem in imems :\n",
    "    if 'style' in imem.attrs :\n",
    "        key = imem.text\n",
    "        d[key]={}\n",
    "    elif 'class' not in imem.attrs:\n",
    "        if imem.text.strip() !=\"\":\n",
    "            if '/' in imem.text:\n",
    "                date=imem.text\n",
    "            else:\n",
    "                d[key][date] = imem.text\n",
    "print(d)"
   ]
  },
  {
   "cell_type": "code",
   "execution_count": 3,
   "metadata": {},
   "outputs": [
    {
     "name": "stdout",
     "output_type": "stream",
     "text": [
      "          SO2    CO     O3 PM10    NOx    NO    NO2   THC  NMHC   CH4\n",
      "2019/01  4.10  0.67  24.70   78  38.01  7.95  30.06  2.27  0.27     2\n",
      "2019/02  3.30  0.48  29.40   57  25.62  4.76  20.86  2.11  0.17  1.94\n",
      "2019/03  3.90  0.50  29.20   52  27.84  5.41  22.43  2.12  0.18  1.94\n",
      "2019/04  3.40  0.39  30.40   42  21.83  4.16  17.68  2.02  0.14  1.88\n",
      "2019/05  3.30  0.38  28.60   35  22.55  4.58  17.98  2.02  0.16  1.86\n",
      "2019/06  4.10  0.24  16.30   20  17.15  5.08  12.08  1.92  0.13  1.79\n",
      "2019/07     4  0.28  15.50   24  17.71  5.16  12.54  1.93  0.14  1.80\n",
      "2019/08  4.60  0.33  19.70   27  19.66  5.17  14.49  1.97  0.15  1.82\n",
      "2019/09  3.50  0.32  35.70   35  18.66  3.63  15.03  1.98  0.13  1.86\n",
      "2019/10  3.20  0.36     44   50  19.50  3.50  15.99  2.05  0.13  1.92\n",
      "2019/11  3.60  0.46  34.80   63  28.99  5.21  23.78  2.15  0.21  1.94\n"
     ]
    }
   ],
   "source": [
    "import pandas as pd\n",
    "print(pd.DataFrame(d))"
   ]
  },
  {
   "cell_type": "code",
   "execution_count": null,
   "metadata": {},
   "outputs": [],
   "source": []
  }
 ],
 "metadata": {
  "kernelspec": {
   "display_name": "Python 3",
   "language": "python",
   "name": "python3"
  },
  "language_info": {
   "codemirror_mode": {
    "name": "ipython",
    "version": 3
   },
   "file_extension": ".py",
   "mimetype": "text/x-python",
   "name": "python",
   "nbconvert_exporter": "python",
   "pygments_lexer": "ipython3",
   "version": "3.7.3"
  }
 },
 "nbformat": 4,
 "nbformat_minor": 2
}
