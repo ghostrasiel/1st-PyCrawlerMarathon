{
 "cells": [
  {
   "cell_type": "code",
   "execution_count": 3,
   "metadata": {},
   "outputs": [],
   "source": [
    "import requests\n",
    "from pyquery import  PyQuery as pq\n",
    "url = 'https://pycrawler.cupoy.com/'\n",
    "res = requests.get(url)\n",
    "resp = res.text"
   ]
  },
  {
   "cell_type": "code",
   "execution_count": 4,
   "metadata": {},
   "outputs": [
    {
     "name": "stdout",
     "output_type": "stream",
     "text": [
      "第一屆Python網路爬蟲實戰研習馬拉松\n"
     ]
    }
   ],
   "source": [
    "doc = pq(resp)\n",
    "print(doc('title').text())"
   ]
  },
  {
   "cell_type": "code",
   "execution_count": 5,
   "metadata": {},
   "outputs": [
    {
     "name": "stdout",
     "output_type": "stream",
     "text": [
      "[<title>第一屆Python網路爬蟲實戰研習馬拉松</title>]\n"
     ]
    }
   ],
   "source": [
    "import bs4 \n",
    "soup = bs4.BeautifulSoup(resp , 'html.parser')\n",
    "date = soup.find_all('title')\n",
    "print(date)"
   ]
  },
  {
   "cell_type": "code",
   "execution_count": null,
   "metadata": {},
   "outputs": [],
   "source": []
  }
 ],
 "metadata": {
  "kernelspec": {
   "display_name": "Python 3",
   "language": "python",
   "name": "python3"
  },
  "language_info": {
   "codemirror_mode": {
    "name": "ipython",
    "version": 3
   },
   "file_extension": ".py",
   "mimetype": "text/x-python",
   "name": "python",
   "nbconvert_exporter": "python",
   "pygments_lexer": "ipython3",
   "version": "3.7.3"
  }
 },
 "nbformat": 4,
 "nbformat_minor": 2
}
